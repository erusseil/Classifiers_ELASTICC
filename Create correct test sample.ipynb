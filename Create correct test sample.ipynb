{
 "cells": [
  {
   "cell_type": "code",
   "execution_count": 1,
   "id": "c62c0cfb-dc45-4cf6-af81-8511615393ac",
   "metadata": {
    "tags": []
   },
   "outputs": [],
   "source": [
    "import pandas as pd\n",
    "import numpy as np\n",
    "import random"
   ]
  },
  {
   "cell_type": "code",
   "execution_count": 2,
   "id": "490dfe78-2fd3-4fec-a6f3-352d39ab540c",
   "metadata": {
    "tags": []
   },
   "outputs": [
    {
     "name": "stdout",
     "output_type": "stream",
     "text": [
      "2222\n",
      "2224\n",
      "2226\n",
      "2233\n",
      "2235\n",
      "2243\n",
      "2245\n",
      "2322\n",
      "2324\n",
      "2332\n",
      "2223\n",
      "2225\n",
      "2232\n",
      "2234\n",
      "2242\n",
      "2244\n",
      "2246\n",
      "2323\n",
      "2325\n"
     ]
    }
   ],
   "source": [
    "targets = [2222, 2224, 2226, 2233, 2235, 2243, 2245, 2322, 2324, 2332, 2223, 2225, 2232, 2234, 2242, 2244, 2246, 2323, 2325]\n",
    "\n",
    "subsample = []\n",
    "\n",
    "for target in targets:\n",
    "    agg = pd.read_parquet(f'/media/ELAsTICC/Fink/first_year/ftransfer_elasticc_v2_2023-08-12_245226/aggregated/classId={target}.parquet')\n",
    "    agg['target'] = target\n",
    "    subsample.append(agg)\n",
    "    \n",
    "subsample = pd.concat(subsample).sample(frac=1, ignore_index=True, random_state=0)"
   ]
  },
  {
   "cell_type": "code",
   "execution_count": 3,
   "id": "05b711b8-5631-4bf9-9d13-a087c21917bd",
   "metadata": {
    "tags": []
   },
   "outputs": [],
   "source": [
    "# Make sure that ObjectId don't overlap between samples\n",
    "ids = np.unique(subsample['objectId'])\n",
    "np.random.shuffle(ids)\n",
    "\n",
    "subsample[subsample['objectId'].isin(ids[:int(len(ids)/2)])].reset_index(drop=True).to_parquet('test_sample.parquet')\n",
    "subsample[subsample['objectId'].isin(ids[int(len(ids)/2):])].reset_index(drop=True).to_parquet('train_sample.parquet')"
   ]
  }
 ],
 "metadata": {
  "kernelspec": {
   "display_name": "Python 3 (ipykernel)",
   "language": "python",
   "name": "python3"
  },
  "language_info": {
   "codemirror_mode": {
    "name": "ipython",
    "version": 3
   },
   "file_extension": ".py",
   "mimetype": "text/x-python",
   "name": "python",
   "nbconvert_exporter": "python",
   "pygments_lexer": "ipython3",
   "version": "3.9.14"
  }
 },
 "nbformat": 4,
 "nbformat_minor": 5
}
